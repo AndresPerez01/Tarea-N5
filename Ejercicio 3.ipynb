{
  "metadata": {
    "kernelspec": {
      "name": "python",
      "display_name": "Python (Pyodide)",
      "language": "python"
    },
    "language_info": {
      "codemirror_mode": {
        "name": "python",
        "version": 3
      },
      "file_extension": ".py",
      "mimetype": "text/x-python",
      "name": "python",
      "nbconvert_exporter": "python",
      "pygments_lexer": "ipython3",
      "version": "3.8"
    }
  },
  "nbformat_minor": 4,
  "nbformat": 4,
  "cells": [
    {
      "cell_type": "markdown",
      "source": "## Ejercicio 1\n",
      "metadata": {}
    },
    {
      "cell_type": "code",
      "source": "import numpy as np\n\n# Método de Newton\ndef newton_method(f, df, x0, tol=1e-5, max_iter=100):\n    x = x0\n    for i in range(max_iter):\n        fx = f(x)\n        dfx = df(x)\n        if dfx == 0:\n            raise ValueError(\"La derivada se hizo cero\")\n        x_new = x - fx / dfx\n        if abs(x_new - x) < tol:\n            return x_new\n        x = x_new\n    raise ValueError(\"El método de Newton no convergió\")\n\n# Problema a: -(x)^3 - np.cos(x) = 0\nf_a = lambda x: -(x)**3 - np.cos(x)\ndf_a = lambda x: -3 * (x)**2 + np.sin(x)\n\n# Solución para el problema a\nx0_a = -1.0  # Valor inicial para Newton\n\n\ntry:\n    sol_a_newton = newton_method(f_a, df_a, x0_a)\n    print(\"Problema a: -(x)^3 - cos(x) = 0\")\n    print(f\"Método de Newton: x = {sol_a_newton:}\")\n\nexcept ValueError as e:\n    print(e)\n\ndef f(x):\n    return -x**3 - np.cos(x)\n\ndef secant_method(f, x0, x1, tol=1e-5, max_iter=100):\n    for _ in range(max_iter):\n        fx0 = f(x0)\n        fx1 = f(x1)\n        \n        if abs(fx1 - fx0) < tol:\n            print(\"Cambio en función demasiado pequeño, puede que no converja\")\n            return None\n        \n        x2 = x1 - fx1 * (x1 - x0) / (fx1 - fx0)\n        \n        if abs(x2 - x1) < tol:\n            return x2\n        \n        x0, x1 = x1, x2\n    \n    print(\"El método no convergió en el número máximo de iteraciones\")\n    return None\n\n# Aproximaciones iniciales\nx0 = -1\nx1 = -0.9\n\n# Encontrar la raíz\nraiz = secant_method(f, x0, x1)\nprint(f\"Método de la Secante: x = {raiz}\")\n",
      "metadata": {
        "trusted": true
      },
      "outputs": [
        {
          "name": "stdout",
          "text": "Problema a: -(x)^3 - cos(x) = 0\nMétodo de Newton: x = -0.8654740331016162\nMétodo de la Secante: x = -0.8654740331679321\n",
          "output_type": "stream"
        }
      ],
      "execution_count": 1
    },
    {
      "cell_type": "code",
      "source": "",
      "metadata": {
        "trusted": true
      },
      "outputs": [],
      "execution_count": null
    }
  ]
}