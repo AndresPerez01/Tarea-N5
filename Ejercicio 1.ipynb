{
  "metadata": {
    "kernelspec": {
      "name": "python",
      "display_name": "Python (Pyodide)",
      "language": "python"
    },
    "language_info": {
      "codemirror_mode": {
        "name": "python",
        "version": 3
      },
      "file_extension": ".py",
      "mimetype": "text/x-python",
      "name": "python",
      "nbconvert_exporter": "python",
      "pygments_lexer": "ipython3",
      "version": "3.8"
    }
  },
  "nbformat_minor": 4,
  "nbformat": 4,
  "cells": [
    {
      "cell_type": "code",
      "source": "import tkinter as tk\nfrom tkinter import ttk, messagebox\n\ndef calcular_valor_final(deposito_inicial, aporte, tasa_interes_semanal, numero_semanas, frecuencia_aportes):\n    # Convertir la frecuencia de aportes a número de semanas\n    if frecuencia_aportes == 'semanal':\n        semanas_por_aporte = 1\n    elif frecuencia_aportes == 'mensual':\n        semanas_por_aporte = 4\n    elif frecuencia_aportes == 'bimestral':\n        semanas_por_aporte = 8\n    elif frecuencia_aportes == 'trimestral':\n        semanas_por_aporte = 12\n    else:\n        raise ValueError(\"Frecuencia de aportes no soportada\")\n    \n    # Calcular el valor futuro del depósito inicial\n    vf_inicial = deposito_inicial * (1 + tasa_interes_semanal) ** numero_semanas\n    \n    # Calcular el valor futuro de los aportes\n    numero_aportes = numero_semanas // semanas_por_aporte\n    vf_aportes = 0\n    for k in range(1, numero_aportes + 1):\n        vf_aportes += aporte * (1 + tasa_interes_semanal) ** (numero_semanas - k * semanas_por_aporte)\n    \n    # Calcular el valor final total\n    vf_total = vf_inicial + vf_aportes\n    \n    return vf_total\n\ndef calcular():\n    try:\n        deposito_inicial = float(entry_deposito_inicial.get())\n        aporte = float(entry_aporte.get())\n        tasa_interes_anual = float(entry_tasa_interes.get()) / 100\n        numero_semanas = int(entry_numero_semanas.get())\n        frecuencia_aportes = combo_frecuencia_aportes.get()\n\n        tasa_interes_semanal = (1 + tasa_interes_anual) ** (1 / 52) - 1\n        \n        valor_final = calcular_valor_final(deposito_inicial, aporte, tasa_interes_semanal, numero_semanas, frecuencia_aportes)\n        \n        label_resultado.config(text=f\"El valor final en la cuenta de ahorros es: ${valor_final:.2f}\")\n    except ValueError:\n        messagebox.showerror(\"Error de entrada\", \"Por favor, ingrese valores válidos.\")\n\n# Crear la ventana principal\nroot = tk.Tk()\nroot.title(\"Calculadora de Ahorro\")\n\n# Crear y ubicar los widgets\ntk.Label(root, text=\"Depósito Inicial ($):\").grid(row=0, column=0, padx=10, pady=10)\nentry_deposito_inicial = tk.Entry(root)\nentry_deposito_inicial.grid(row=0, column=1, padx=10, pady=10)\n\ntk.Label(root, text=\"Aporte ($):\").grid(row=1, column=0, padx=10, pady=10)\nentry_aporte = tk.Entry(root)\nentry_aporte.grid(row=1, column=1, padx=10, pady=10)\n\ntk.Label(root, text=\"Tasa de Interés Anual (%):\").grid(row=2, column=0, padx=10, pady=10)\nentry_tasa_interes = tk.Entry(root)\nentry_tasa_interes.grid(row=2, column=1, padx=10, pady=10)\n\ntk.Label(root, text=\"Número de Semanas:\").grid(row=3, column=0, padx=10, pady=10)\nentry_numero_semanas = tk.Entry(root)\nentry_numero_semanas.grid(row=3, column=1, padx=10, pady=10)\n\ntk.Label(root, text=\"Frecuencia de Aportes:\").grid(row=4, column=0, padx=10, pady=10)\ncombo_frecuencia_aportes = ttk.Combobox(root, values=['semanal', 'mensual', 'bimestral', 'trimestral'])\ncombo_frecuencia_aportes.grid(row=4, column=1, padx=10, pady=10)\ncombo_frecuencia_aportes.current(0)\n\nbtn_calcular = tk.Button(root, text=\"Calcular\", command=calcular)\nbtn_calcular.grid(row=5, column=0, columnspan=2, pady=20)\n\nlabel_resultado = tk.Label(root, text=\"El valor final en la cuenta de ahorros es: $0.00\")\nlabel_resultado.grid(row=6, column=0, columnspan=2, pady=10)\n\n# Ejecutar la aplicación\nroot.mainloop()\n",
      "metadata": {
        "trusted": true
      },
      "outputs": [
        {
          "ename": "<class 'ModuleNotFoundError'>",
          "evalue": "The module 'tkinter' is removed from the Python standard library in the Pyodide distribution due to browser limitations.\nSee https://pyodide.org/en/stable/usage/loading-packages.html for more details.",
          "traceback": [
            "\u001b[0;31m---------------------------------------------------------------------------\u001b[0m",
            "\u001b[0;31mModuleNotFoundError\u001b[0m                       Traceback (most recent call last)",
            "Cell \u001b[0;32mIn[2], line 1\u001b[0m\n\u001b[0;32m----> 1\u001b[0m \u001b[38;5;28;01mimport\u001b[39;00m \u001b[38;5;21;01mtkinter\u001b[39;00m \u001b[38;5;28;01mas\u001b[39;00m \u001b[38;5;21;01mtk\u001b[39;00m\n\u001b[1;32m      2\u001b[0m \u001b[38;5;28;01mfrom\u001b[39;00m \u001b[38;5;21;01mtkinter\u001b[39;00m \u001b[38;5;28;01mimport\u001b[39;00m ttk, messagebox\n\u001b[1;32m      4\u001b[0m \u001b[38;5;28;01mdef\u001b[39;00m \u001b[38;5;21mcalcular_valor_final\u001b[39m(deposito_inicial, aporte, tasa_interes_semanal, numero_semanas, frecuencia_aportes):\n\u001b[1;32m      5\u001b[0m     \u001b[38;5;66;03m# Convertir la frecuencia de aportes a número de semanas\u001b[39;00m\n",
            "\u001b[0;31mModuleNotFoundError\u001b[0m: The module 'tkinter' is removed from the Python standard library in the Pyodide distribution due to browser limitations.\nSee https://pyodide.org/en/stable/usage/loading-packages.html for more details."
          ],
          "output_type": "error"
        }
      ],
      "execution_count": 2
    },
    {
      "cell_type": "code",
      "source": "",
      "metadata": {
        "trusted": true
      },
      "outputs": [],
      "execution_count": null
    }
  ]
}