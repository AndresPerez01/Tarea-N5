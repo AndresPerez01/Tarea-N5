{
  "metadata": {
    "kernelspec": {
      "name": "python",
      "display_name": "Python (Pyodide)",
      "language": "python"
    },
    "language_info": {
      "codemirror_mode": {
        "name": "python",
        "version": 3
      },
      "file_extension": ".py",
      "mimetype": "text/x-python",
      "name": "python",
      "nbconvert_exporter": "python",
      "pygments_lexer": "ipython3",
      "version": "3.8"
    }
  },
  "nbformat_minor": 4,
  "nbformat": 4,
  "cells": [
    {
      "cell_type": "markdown",
      "source": "## Ejercicio 3\n",
      "metadata": {}
    },
    {
      "cell_type": "code",
      "source": "import numpy as np\n\n# Método de Newton\ndef newton_method(f, df, x0, tol=1e-5, max_iter=100):\n    x = x0\n    for i in range(max_iter):\n        x_new = x - f(x) / df(x)\n        if abs(x_new - x) < tol:\n            return x_new\n        x = x_new\n    raise ValueError(\"El método de Newton no convergió\")\n\n# Método de la Secante\ndef secant_method(f, x0, x1, tol=1e-5, max_iter=100):\n    for i in range(max_iter):\n        if abs(f(x1) - f(x0)) < tol:\n            raise ValueError(\"División por cero en el método de la secante\")\n        x_new = x1 - f(x1) * (x1 - x0) / (f(x1) - f(x0))\n        if abs(x_new - x1) < tol:\n            return x_new\n        x0, x1 = x1, x_new\n    raise ValueError(\"El método de la secante no convergió\")\n\n# Problema a\nf_a = lambda x: 3*x - np.exp(x)\ndf_a = lambda x: 3 - np.exp(x)\n\n# Problema b\nf_b = lambda x: 2*x + 3 * np.cos(x) - np.exp(x)\ndf_b = lambda x: 2 - 3 * np.sin(x) - np.exp(x)\n\n# Soluciones para el problema a\nx0_a = 1.0  # Valor inicial para Newton\nx1_a = 1.0  # Primer valor inicial para Secante\nx2_a = 2.0  # Segundo valor inicial para Secante\n\nsol_a_newton = newton_method(f_a, df_a, x0_a)\nsol_a_secant = secant_method(f_a, x1_a, x2_a)\n\n# Soluciones para el problema b\nx0_b = 1.0  # Valor inicial para Newton\nx1_b = 1.0  # Primer valor inicial para Secante\nx2_b = 2.0  # Segundo valor inicial para Secante\n\nsol_b_newton = newton_method(f_b, df_b, x0_b)\nsol_b_secant = secant_method(f_b, x1_b, x2_b)\n\n# Imprimir los resultados\nprint(\"Problema a: 3x - e^x = 0\")\nprint(f\"  Método de Newton: x = {sol_a_newton:.5f}\")\nprint(f\"  Método de la Secante: x = {sol_a_secant:.5f}\")\n\nprint(\"\\nProblema b: 2x + 3 cos x - e^x = 0\")\nprint(f\"  Método de Newton: x = {sol_b_newton:.5f}\")\nprint(f\"  Método de la Secante: x = {sol_b_secant:.5f}\")",
      "metadata": {
        "trusted": true
      },
      "outputs": [
        {
          "name": "stdout",
          "text": "Problema a: 3x - e^x = 0\n  Método de Newton: x = 0.61906\n  Método de la Secante: x = 1.51213\n\nProblema b: 2x + 3 cos x - e^x = 0\n  Método de Newton: x = 1.23971\n  Método de la Secante: x = 1.23971\n",
          "output_type": "stream"
        }
      ],
      "execution_count": 2
    },
    {
      "cell_type": "code",
      "source": "",
      "metadata": {
        "trusted": true
      },
      "outputs": [],
      "execution_count": null
    }
  ]
}